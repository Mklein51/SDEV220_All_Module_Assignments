{
 "cells": [
  {
   "cell_type": "code",
   "execution_count": 4,
   "id": "cd1cede2-dc56-4c45-bc42-01a076700704",
   "metadata": {},
   "outputs": [
    {
     "name": "stdout",
     "output_type": "stream",
     "text": [
      "['mozzarella', 'Cinderella', 'salmonella']\n"
     ]
    }
   ],
   "source": [
    "\"\"\"Things to do 7.4\"\"\"\n",
    "\n",
    "things = [\"mozzarella\", \"cinderella\", \"salmonella\"]\n",
    "\n",
    "\"\"\"Things to do 7.5\"\"\"\n",
    "\n",
    "things[1] = \"Cinderella\"\n",
    "print(things)\n",
    "\n",
    "\n"
   ]
  },
  {
   "cell_type": "markdown",
   "id": "6bd39177-9049-4914-8d79-ead42eb4a0d9",
   "metadata": {},
   "source": [
    "Yes the element in the list titled \"cinderella\" was changed to \"Cinderella\""
   ]
  },
  {
   "cell_type": "code",
   "execution_count": 6,
   "id": "325134c7-0393-4cd0-877a-8d1134579d82",
   "metadata": {},
   "outputs": [
    {
     "name": "stdout",
     "output_type": "stream",
     "text": [
      "['Mozzarella', 'Cinderella']\n"
     ]
    }
   ],
   "source": [
    "\"\"\"Things to do 7.6 and 7.7\"\"\"\n",
    "\n",
    "things[0] = \"Mozzarella\"\n",
    "del things[2] \n",
    "print(things)\n",
    "\n"
   ]
  },
  {
   "cell_type": "code",
   "execution_count": 12,
   "id": "9e1c86bf-f5cd-4d59-9617-c3e66279f03b",
   "metadata": {},
   "outputs": [
    {
     "name": "stdout",
     "output_type": "stream",
     "text": [
      "The third number is:  5\n",
      "['Harry', 'Ron', 'Hermione']\n",
      "<generator object get_odds at 0x000001F752F24A00>\n"
     ]
    }
   ],
   "source": [
    "\"\"\"Things to do 9.1\"\"\"\n",
    "\n",
    "def good():\n",
    "    return ['Harry', 'Ron', 'Hermione']\n",
    "    \n",
    "    \n",
    "\"\"\"Things to do 9.2\"\"\"\n",
    "\n",
    "def get_odds(first=1, last=10, step=2): #Function to print odd numbers in the range of 10\n",
    "    number = first #begins counter at 1\n",
    "    while number < last: #logic to cound in 2's from 1 to 10\n",
    "        yield number\n",
    "        number += step\n",
    "        \n",
    "for i, num in enumerate(get_odds(), start=1): #used enumerate class to count the iterations\n",
    "    if i == 3: #prints the third iteration counted from enumerate\n",
    "        print (\"The third number is: \" , num)\n",
    "        break\n",
    "\n",
    "print(good())\n",
    "print(get_odds())\n"
   ]
  },
  {
   "cell_type": "code",
   "execution_count": null,
   "id": "0a49eba6-ab0c-425b-bea4-520d529ec48b",
   "metadata": {},
   "outputs": [],
   "source": []
  }
 ],
 "metadata": {
  "kernelspec": {
   "display_name": "Python [conda env:base] *",
   "language": "python",
   "name": "conda-base-py"
  },
  "language_info": {
   "codemirror_mode": {
    "name": "ipython",
    "version": 3
   },
   "file_extension": ".py",
   "mimetype": "text/x-python",
   "name": "python",
   "nbconvert_exporter": "python",
   "pygments_lexer": "ipython3",
   "version": "3.12.7"
  }
 },
 "nbformat": 4,
 "nbformat_minor": 5
}
