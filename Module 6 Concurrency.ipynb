{
 "cells": [
  {
   "cell_type": "code",
   "execution_count": 21,
   "id": "d81d68c4-3ecd-4a53-8e1b-06571757f004",
   "metadata": {},
   "outputs": [
    {
     "name": "stdout",
     "output_type": "stream",
     "text": [
      "2025-04-28\n"
     ]
    }
   ],
   "source": [
    "\"\"\"Things to do 13.1\"\"\"\n",
    "\n",
    "import datetime\n",
    "\n",
    "#Set variable to todays date with formatting\n",
    "current_date = datetime.date.today().isoformat()\n",
    "\n",
    "#write to a text file \n",
    "with open(\"today.txt\", \"w\") as file:\n",
    "    file.write(current_date)\n",
    "\n",
    "#Testing Variable\n",
    "print(current_date)"
   ]
  },
  {
   "cell_type": "code",
   "execution_count": 15,
   "id": "17d6e581-54b5-4bc3-bd67-2976e86bddda",
   "metadata": {},
   "outputs": [
    {
     "name": "stdout",
     "output_type": "stream",
     "text": [
      "2025-04-28\n"
     ]
    }
   ],
   "source": [
    "\"\"\"Things to do 13.2\"\"\"\n",
    "\n",
    "#Read file and assign to variable\n",
    "with open(\"today.txt\", \"r\") as file:\n",
    "    today_string = file.read()\n",
    "\n",
    "#Testing new variable\n",
    "print(today_string)"
   ]
  },
  {
   "cell_type": "code",
   "execution_count": 29,
   "id": "7db87038-bec3-4e12-bb3d-26ebec554fa5",
   "metadata": {},
   "outputs": [
    {
     "name": "stdout",
     "output_type": "stream",
     "text": [
      "2025-04-28 00:00:00\n"
     ]
    }
   ],
   "source": [
    "\"\"\"Things to do 13.3\"\"\"\n",
    "\n",
    "#Transform string back into a date\n",
    "today_date = datetime.datetime.strptime(today_string, '%Y-%m-%d')\n",
    "\n",
    "print(today_date)"
   ]
  },
  {
   "cell_type": "code",
   "execution_count": 35,
   "id": "d58aa914-1387-4b09-a25a-0137e0900950",
   "metadata": {},
   "outputs": [
    {
     "name": "stdout",
     "output_type": "stream",
     "text": [
      "I'm the main program in process 79820\n"
     ]
    }
   ],
   "source": [
    "\"\"\"Things to do 15.1\"\"\"\n",
    "\n",
    "import multiprocessing \n",
    "import os\n",
    "import random\n",
    "import time\n",
    "from datetime import datetime\n",
    "\n",
    "\n",
    "def waiting(name):\n",
    "    wait_time = random.uniform(0,1)\n",
    "    time.sleep(wait_time)\n",
    "    print(\"I'm %s in process %s at time %s\" % (name, os.getpid(), datetime.now().strftime('%H:%M:%S.%f')))\n",
    "\n",
    "if __name__ == \"__main__\":\n",
    "    print(\"I'm the main program in process %s\" % os.getpid())\n",
    "    \n",
    "    for n in range(3):\n",
    "        p = multiprocessing.Process(target=waiting, args=(\"waiting-%s\" % n,))\n",
    "        p.start()"
   ]
  },
  {
   "cell_type": "code",
   "execution_count": null,
   "id": "a74fccb1-891d-481b-af4c-32986311df53",
   "metadata": {},
   "outputs": [],
   "source": []
  }
 ],
 "metadata": {
  "kernelspec": {
   "display_name": "Python [conda env:base] *",
   "language": "python",
   "name": "conda-base-py"
  },
  "language_info": {
   "codemirror_mode": {
    "name": "ipython",
    "version": 3
   },
   "file_extension": ".py",
   "mimetype": "text/x-python",
   "name": "python",
   "nbconvert_exporter": "python",
   "pygments_lexer": "ipython3",
   "version": "3.12.7"
  }
 },
 "nbformat": 4,
 "nbformat_minor": 5
}
