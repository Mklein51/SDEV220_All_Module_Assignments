{
 "cells": [
  {
   "cell_type": "code",
   "execution_count": 4,
   "id": "a991be1f-9686-4683-8610-c8c0bf23dc4d",
   "metadata": {},
   "outputs": [
    {
     "name": "stdout",
     "output_type": "stream",
     "text": [
      "[0, 0, 1, 1, 2, 2]\n"
     ]
    }
   ],
   "source": [
    "\"\"\" Module 3 Tutorial Sorting array function \"\"\"\n",
    "\n",
    "#Followed tutorial\n",
    "arr = [0,1,2,0,1,2]\n",
    "\n",
    "def sort012(arr):\n",
    "    \n",
    "    n = len(arr)\n",
    "    low = 0\n",
    "    high = n -1\n",
    "    mid = 0\n",
    "\n",
    "\n",
    "    while mid <= high:\n",
    "        if arr[mid] == 0:\n",
    "            arr[low], arr[mid] = arr[mid], arr[low]\n",
    "            low = low + 1\n",
    "            mid = mid +1\n",
    "\n",
    "        elif arr[mid] == 1:\n",
    "            mid = mid +1\n",
    "\n",
    "        else: \n",
    "            arr[mid], arr[high] = arr[high], arr[mid]\n",
    "            high =high -1\n",
    "        \n",
    "    return arr\n",
    "\n",
    "print(sort012(arr))"
   ]
  },
  {
   "cell_type": "code",
   "execution_count": 6,
   "id": "f67483e7-014e-4f21-bc60-c94d10ba0bd5",
   "metadata": {},
   "outputs": [
    {
     "name": "stdout",
     "output_type": "stream",
     "text": [
      "2\n"
     ]
    }
   ],
   "source": [
    "\"\"\"Module 3 Tutorial for searching index with class and function\"\"\"\n",
    "\n",
    "#Followed tutrorial video with changes to fit python \n",
    "arr = [1,3,4,5,5,6,7,9,10,11]\n",
    "\n",
    "class Solution:\n",
    "    def binarysearch(self, arr, k):\n",
    "        left = 0\n",
    "        right = len(arr) - 1\n",
    "        result = -1\n",
    "\n",
    "        while left <= right:\n",
    "            mid = (left + right) // 2\n",
    "\n",
    "            if arr[mid] == k:\n",
    "                result = mid  \n",
    "                right = mid - 1  \n",
    "            elif arr[mid] < k:\n",
    "                left = mid + 1\n",
    "            else:\n",
    "                right = mid - 1\n",
    "\n",
    "        return result\n",
    "    \n",
    "answer = Solution()\n",
    "print(answer.binarysearch(arr, 4))"
   ]
  },
  {
   "cell_type": "code",
   "execution_count": null,
   "id": "724df84d-57ee-49be-86fa-30eb6e2be8cb",
   "metadata": {},
   "outputs": [],
   "source": []
  }
 ],
 "metadata": {
  "kernelspec": {
   "display_name": "Python [conda env:base] *",
   "language": "python",
   "name": "conda-base-py"
  },
  "language_info": {
   "codemirror_mode": {
    "name": "ipython",
    "version": 3
   },
   "file_extension": ".py",
   "mimetype": "text/x-python",
   "name": "python",
   "nbconvert_exporter": "python",
   "pygments_lexer": "ipython3",
   "version": "3.12.7"
  }
 },
 "nbformat": 4,
 "nbformat_minor": 5
}
