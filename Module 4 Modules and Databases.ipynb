{
 "cells": [
  {
   "cell_type": "code",
   "execution_count": null,
   "id": "a0049ab8-0677-4020-8012-5a0bd71f61f8",
   "metadata": {},
   "outputs": [],
   "source": [
    "\"\"\"Things to do 11.1 and 11.2\"\"\"\n",
    "\n",
    "#zoo.py File created\n",
    "\n",
    "#Function within File Created\n",
    "def hours():\n",
    "    print('Open 9--5 daily')\n",
    "\n",
    "\n",
    "#Interactive interpreter commands (Copy/Pasted from Interactive interpreter)\n",
    "\n",
    "C:\\Users\\Mekle>cd C:\\Users\\Mekle\\OneDrive\\Desktop\\Classwork\\Advanced Python\n",
    "\n",
    "C:\\Users\\Mekle\\OneDrive\\Desktop\\Classwork\\Advanced Python>python\n",
    "Python 3.13.2 (tags/v3.13.2:4f8bb39, Feb  4 2025, 15:23:48) [MSC v.1942 64 bit (AMD64)] on win32\n",
    "Type \"help\", \"copyright\", \"credits\" or \"license\" for more information.\n",
    ">>> import zoo\n",
    ">>> zoo.hours()\n",
    "Open 9--5 daily\n",
    ">>> import zoo as menagerie\n",
    ">>> menagerie.hours()\n",
    "Open 9--5 daily\n",
    ">>>"
   ]
  },
  {
   "cell_type": "code",
   "execution_count": 4,
   "id": "1a96dbc9-9ffa-43d6-b279-432f863564eb",
   "metadata": {},
   "outputs": [
    {
     "name": "stdout",
     "output_type": "stream",
     "text": [
      "That Book\n",
      "That Other Book\n"
     ]
    }
   ],
   "source": [
    "import sqlite3\n",
    "import sqlalchemy as sa\n",
    "\n",
    "#Creating Table\n",
    "conn = sqlite3.connect(\"books.db\")\n",
    "cursor = conn.cursor()\n",
    "\n",
    "cursor.execute(\"DELETE FROM books\")\n",
    "\n",
    "#Add Data into table\n",
    "cursor.execute(\"INSERT INTO books VALUES (?, ?, ?)\", (\"That Book\", \"Mark Klein\", 2025))\n",
    "cursor.execute(\"INSERT INTO books VALUES (?, ?, ?)\", (\"That Other Book\", \"Mark Klein\", 2025))\n",
    "\n",
    "#Commit and closeout table modifying\n",
    "conn.commit()\n",
    "conn.close()\n",
    "\n",
    "#Create engine with sqlalchemy\n",
    "engine = sa.create_engine('sqlite:///books.db')\n",
    "\n",
    "#logic to print all of the titles in first row\n",
    "with engine.connect() as conn:\n",
    "    rows = conn.execute(sa.text('SELECT title FROM books ORDER BY title'))\n",
    "    for row in rows:\n",
    "        print(row[0])\n"
   ]
  },
  {
   "cell_type": "code",
   "execution_count": null,
   "id": "e1a5bfec-5f06-4f91-9e64-d6a277ae4e11",
   "metadata": {},
   "outputs": [],
   "source": []
  }
 ],
 "metadata": {
  "kernelspec": {
   "display_name": "Python [conda env:base] *",
   "language": "python",
   "name": "conda-base-py"
  },
  "language_info": {
   "codemirror_mode": {
    "name": "ipython",
    "version": 3
   },
   "file_extension": ".py",
   "mimetype": "text/x-python",
   "name": "python",
   "nbconvert_exporter": "python",
   "pygments_lexer": "ipython3",
   "version": "3.12.7"
  }
 },
 "nbformat": 4,
 "nbformat_minor": 5
}
